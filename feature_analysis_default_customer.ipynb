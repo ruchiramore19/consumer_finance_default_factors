{
 "cells": [
  {
   "cell_type": "markdown",
   "metadata": {},
   "source": [
    "*Lending Club Case Study*\n",
    "------------------------------------------------------------\n"
   ]
  },
  {
   "cell_type": "code",
   "execution_count": 1,
   "metadata": {},
   "outputs": [],
   "source": [
    "#importing builtin libraries\n",
    "import numpy as np\n",
    "import pandas as pd\n",
    "from datetime import datetime\n",
    "import matplotlib.pyplot as plt\n",
    "import seaborn as sns\n",
    "from copy import deepcopy\n",
    "import warnings\n",
    "warnings.filterwarnings('ignore')"
   ]
  },
  {
   "cell_type": "code",
   "execution_count": 2,
   "metadata": {},
   "outputs": [
    {
     "name": "stdout",
     "output_type": "stream",
     "text": [
      "<class 'pandas.core.frame.DataFrame'>\n",
      "RangeIndex: 39717 entries, 0 to 39716\n",
      "Columns: 111 entries, id to total_il_high_credit_limit\n",
      "dtypes: float64(74), int64(13), object(24)\n",
      "memory usage: 33.6+ MB\n"
     ]
    }
   ],
   "source": [
    "#Reading dataset\n",
    "loan = pd.read_csv('loan.csv')\n",
    "loan.info()\n",
    "pd.set_option('display.max_columns', 500)"
   ]
  },
  {
   "cell_type": "code",
   "execution_count": 3,
   "metadata": {},
   "outputs": [
    {
     "name": "stdout",
     "output_type": "stream",
     "text": [
      "Shape of the Original DataFrame --> (39717, 111)\n",
      "Shape of the DataFrame Post removal of extra columns --> (39717, 45)\n"
     ]
    }
   ],
   "source": [
    "#-----------------------------------------------------------\n",
    "#------Removing the extra columns from the original dataset\n",
    "#-----------------------------------------------------------\n",
    "unique_values_count = loan.nunique().to_frame()\n",
    "column_list = unique_values_count[unique_values_count[0] <=1].index.values.tolist()\n",
    "column_list = column_list + ['member_id','url','desc']\n",
    "loan_mod = loan.drop(column_list, axis=1)\n",
    "print(\"Shape of the Original DataFrame --> \" + str(loan.shape))\n",
    "print(\"Shape of the DataFrame Post removal of extra columns --> \" + str(loan_mod.shape))"
   ]
  },
  {
   "cell_type": "code",
   "execution_count": 4,
   "metadata": {},
   "outputs": [],
   "source": [
    "#---------------Cleaning and standardization of the Dataframe\n",
    "#------------------------------------------------------------\n",
    "#------------1. Removing '%' sign from the corresponding attributes i.e. 'int_rate' , 'revol_util'\n",
    "#------------2. Converting the Dataype of the attributes as required\n",
    "#------------3. Removing  'Year' from the corresponding attribute i.e. 'emp_length'\n",
    "#------------4. Making data case insensitive i.e. Lower case\n",
    "#------------5. Removing the \"months\" from the corresponding attribute i.e. 'term'\n",
    "#------------6. Formatting the date columns i.e. 'issue_d', 'earliest_cr_line', \n",
    "#                                                'last_pymnt_d', 'last_credit_pull_d', \n",
    "#                                               'next_pymnt_d'"
   ]
  },
  {
   "cell_type": "code",
   "execution_count": 5,
   "metadata": {},
   "outputs": [],
   "source": [
    "#--1. Removing '%' sign from the corresponding attributes\n",
    "loan_mod['int_rate'] = loan_mod['int_rate'].str.replace(\"%\",\"\")\n",
    "loan_mod['revol_util'] = loan_mod['revol_util'].str.replace(\"%\",\"\")\n",
    "#loan_mod['revol_util'].head()"
   ]
  },
  {
   "cell_type": "code",
   "execution_count": 6,
   "metadata": {},
   "outputs": [],
   "source": [
    "#--2. Converting the Dataype of the attributes as required\n",
    "convert_Dtype = {'term':'category',\n",
    "                'grade':'category',\n",
    "                'sub_grade':'category',\n",
    "                'emp_length':'category',\n",
    "                'home_ownership':'category',\n",
    "                'verification_status':'category',\n",
    "                'loan_status':'category',\n",
    "                'addr_state':'category',\n",
    "                'inq_last_6mths':'category',\n",
    "                'open_acc':'category',\n",
    "                'pub_rec':'category',\n",
    "                'int_rate': 'float64',\n",
    "                'revol_util': 'float64'}\n",
    "loan_mod = loan_mod.astype(convert_Dtype)"
   ]
  },
  {
   "cell_type": "code",
   "execution_count": 7,
   "metadata": {},
   "outputs": [],
   "source": [
    "#--3. Removing  'Year' from the corresponding attribute i.e. 'emp_length'\n",
    "loan_mod['emp_length'] = loan_mod['emp_length'].str.replace(\"years\",\"\")\n",
    "loan_mod['emp_length'] = loan_mod['emp_length'].str.replace(\"year\",\"\")\n",
    "loan_mod['emp_length'] = loan_mod['emp_length'].str.replace(\"+\",\"\")\n",
    "loan_mod['emp_length'] = loan_mod['emp_length'].str.replace(\"< 1\",\"0\")\n",
    "#loan_mod['emp_length'].unique()"
   ]
  },
  {
   "cell_type": "code",
   "execution_count": 8,
   "metadata": {},
   "outputs": [],
   "source": [
    "#--4. Making data case insensitive i.e. Lower case\n",
    "column_list = ['emp_title', 'home_ownership', \n",
    "               'verification_status', 'loan_status', \n",
    "               'purpose', 'title','addr_state']\n",
    "for x in column_list:\n",
    "    loan_mod[x] = loan_mod[x].str.lower()"
   ]
  },
  {
   "cell_type": "code",
   "execution_count": 9,
   "metadata": {},
   "outputs": [],
   "source": [
    "#--5. Removing the \"months\" from the corresponding attribute i.e. 'term'\n",
    "tmp = pd.DataFrame(loan_mod['term'].str.split(\" \", expand = True))\n",
    "loan_mod.term = tmp[1]\n",
    "#loan_mod['term'].unique()"
   ]
  },
  {
   "cell_type": "code",
   "execution_count": 10,
   "metadata": {
    "scrolled": true
   },
   "outputs": [],
   "source": [
    "#--6. Formatting the date columns\n",
    "date_column_list = ['issue_d', 'earliest_cr_line', 'last_pymnt_d', 'last_credit_pull_d', 'next_pymnt_d']\n",
    "#loan_mod[date_column_list] = loan_mod[date_column_list].apply(lambda x : pd.to_datetime(x.str.upper(), format='%b-%y', yearfirst=False) ) \n",
    "loan_mod[date_column_list] = loan_mod[date_column_list].apply(lambda x : pd.to_datetime(x, format='%b-%y', yearfirst=False) ) "
   ]
  },
  {
   "cell_type": "code",
   "execution_count": 11,
   "metadata": {},
   "outputs": [
    {
     "data": {
      "text/html": [
       "<div>\n",
       "<style scoped>\n",
       "    .dataframe tbody tr th:only-of-type {\n",
       "        vertical-align: middle;\n",
       "    }\n",
       "\n",
       "    .dataframe tbody tr th {\n",
       "        vertical-align: top;\n",
       "    }\n",
       "\n",
       "    .dataframe thead th {\n",
       "        text-align: right;\n",
       "    }\n",
       "</style>\n",
       "<table border=\"1\" class=\"dataframe\">\n",
       "  <thead>\n",
       "    <tr style=\"text-align: right;\">\n",
       "      <th></th>\n",
       "      <th>id</th>\n",
       "      <th>loan_amnt</th>\n",
       "      <th>funded_amnt</th>\n",
       "      <th>funded_amnt_inv</th>\n",
       "      <th>term</th>\n",
       "      <th>int_rate</th>\n",
       "      <th>installment</th>\n",
       "      <th>grade</th>\n",
       "      <th>sub_grade</th>\n",
       "      <th>emp_title</th>\n",
       "      <th>emp_length</th>\n",
       "      <th>home_ownership</th>\n",
       "      <th>annual_inc</th>\n",
       "      <th>verification_status</th>\n",
       "      <th>issue_d</th>\n",
       "      <th>loan_status</th>\n",
       "      <th>purpose</th>\n",
       "      <th>title</th>\n",
       "      <th>zip_code</th>\n",
       "      <th>addr_state</th>\n",
       "      <th>dti</th>\n",
       "      <th>delinq_2yrs</th>\n",
       "      <th>earliest_cr_line</th>\n",
       "      <th>inq_last_6mths</th>\n",
       "      <th>mths_since_last_delinq</th>\n",
       "      <th>mths_since_last_record</th>\n",
       "      <th>open_acc</th>\n",
       "      <th>pub_rec</th>\n",
       "      <th>revol_bal</th>\n",
       "      <th>revol_util</th>\n",
       "      <th>total_acc</th>\n",
       "      <th>out_prncp</th>\n",
       "      <th>out_prncp_inv</th>\n",
       "      <th>total_pymnt</th>\n",
       "      <th>total_pymnt_inv</th>\n",
       "      <th>total_rec_prncp</th>\n",
       "      <th>total_rec_int</th>\n",
       "      <th>total_rec_late_fee</th>\n",
       "      <th>recoveries</th>\n",
       "      <th>collection_recovery_fee</th>\n",
       "      <th>last_pymnt_d</th>\n",
       "      <th>last_pymnt_amnt</th>\n",
       "      <th>next_pymnt_d</th>\n",
       "      <th>last_credit_pull_d</th>\n",
       "      <th>pub_rec_bankruptcies</th>\n",
       "    </tr>\n",
       "  </thead>\n",
       "  <tbody>\n",
       "    <tr>\n",
       "      <th>0</th>\n",
       "      <td>1077501</td>\n",
       "      <td>5000</td>\n",
       "      <td>5000</td>\n",
       "      <td>4975.0</td>\n",
       "      <td>36</td>\n",
       "      <td>10.65</td>\n",
       "      <td>162.87</td>\n",
       "      <td>B</td>\n",
       "      <td>B2</td>\n",
       "      <td>NaN</td>\n",
       "      <td>10</td>\n",
       "      <td>rent</td>\n",
       "      <td>24000.0</td>\n",
       "      <td>verified</td>\n",
       "      <td>2011-12-01</td>\n",
       "      <td>fully paid</td>\n",
       "      <td>credit_card</td>\n",
       "      <td>computer</td>\n",
       "      <td>860xx</td>\n",
       "      <td>az</td>\n",
       "      <td>27.65</td>\n",
       "      <td>0</td>\n",
       "      <td>1985-01-01</td>\n",
       "      <td>1</td>\n",
       "      <td>NaN</td>\n",
       "      <td>NaN</td>\n",
       "      <td>3</td>\n",
       "      <td>0</td>\n",
       "      <td>13648</td>\n",
       "      <td>83.7</td>\n",
       "      <td>9</td>\n",
       "      <td>0.0</td>\n",
       "      <td>0.0</td>\n",
       "      <td>5863.155187</td>\n",
       "      <td>5833.84</td>\n",
       "      <td>5000.00</td>\n",
       "      <td>863.16</td>\n",
       "      <td>0.0</td>\n",
       "      <td>0.00</td>\n",
       "      <td>0.00</td>\n",
       "      <td>2015-01-01</td>\n",
       "      <td>171.62</td>\n",
       "      <td>NaT</td>\n",
       "      <td>2016-05-01</td>\n",
       "      <td>0.0</td>\n",
       "    </tr>\n",
       "    <tr>\n",
       "      <th>1</th>\n",
       "      <td>1077430</td>\n",
       "      <td>2500</td>\n",
       "      <td>2500</td>\n",
       "      <td>2500.0</td>\n",
       "      <td>60</td>\n",
       "      <td>15.27</td>\n",
       "      <td>59.83</td>\n",
       "      <td>C</td>\n",
       "      <td>C4</td>\n",
       "      <td>ryder</td>\n",
       "      <td>0</td>\n",
       "      <td>rent</td>\n",
       "      <td>30000.0</td>\n",
       "      <td>source verified</td>\n",
       "      <td>2011-12-01</td>\n",
       "      <td>charged off</td>\n",
       "      <td>car</td>\n",
       "      <td>bike</td>\n",
       "      <td>309xx</td>\n",
       "      <td>ga</td>\n",
       "      <td>1.00</td>\n",
       "      <td>0</td>\n",
       "      <td>1999-04-01</td>\n",
       "      <td>5</td>\n",
       "      <td>NaN</td>\n",
       "      <td>NaN</td>\n",
       "      <td>3</td>\n",
       "      <td>0</td>\n",
       "      <td>1687</td>\n",
       "      <td>9.4</td>\n",
       "      <td>4</td>\n",
       "      <td>0.0</td>\n",
       "      <td>0.0</td>\n",
       "      <td>1008.710000</td>\n",
       "      <td>1008.71</td>\n",
       "      <td>456.46</td>\n",
       "      <td>435.17</td>\n",
       "      <td>0.0</td>\n",
       "      <td>117.08</td>\n",
       "      <td>1.11</td>\n",
       "      <td>2013-04-01</td>\n",
       "      <td>119.66</td>\n",
       "      <td>NaT</td>\n",
       "      <td>2013-09-01</td>\n",
       "      <td>0.0</td>\n",
       "    </tr>\n",
       "  </tbody>\n",
       "</table>\n",
       "</div>"
      ],
      "text/plain": [
       "        id  loan_amnt  funded_amnt  funded_amnt_inv term  int_rate  \\\n",
       "0  1077501       5000         5000           4975.0   36     10.65   \n",
       "1  1077430       2500         2500           2500.0   60     15.27   \n",
       "\n",
       "   installment grade sub_grade emp_title emp_length home_ownership  \\\n",
       "0       162.87     B        B2       NaN        10            rent   \n",
       "1        59.83     C        C4     ryder         0            rent   \n",
       "\n",
       "   annual_inc verification_status    issue_d  loan_status      purpose  \\\n",
       "0     24000.0            verified 2011-12-01   fully paid  credit_card   \n",
       "1     30000.0     source verified 2011-12-01  charged off          car   \n",
       "\n",
       "      title zip_code addr_state    dti  delinq_2yrs earliest_cr_line  \\\n",
       "0  computer    860xx         az  27.65            0       1985-01-01   \n",
       "1      bike    309xx         ga   1.00            0       1999-04-01   \n",
       "\n",
       "  inq_last_6mths  mths_since_last_delinq  mths_since_last_record open_acc  \\\n",
       "0              1                     NaN                     NaN        3   \n",
       "1              5                     NaN                     NaN        3   \n",
       "\n",
       "  pub_rec  revol_bal  revol_util  total_acc  out_prncp  out_prncp_inv  \\\n",
       "0       0      13648        83.7          9        0.0            0.0   \n",
       "1       0       1687         9.4          4        0.0            0.0   \n",
       "\n",
       "   total_pymnt  total_pymnt_inv  total_rec_prncp  total_rec_int  \\\n",
       "0  5863.155187          5833.84          5000.00         863.16   \n",
       "1  1008.710000          1008.71           456.46         435.17   \n",
       "\n",
       "   total_rec_late_fee  recoveries  collection_recovery_fee last_pymnt_d  \\\n",
       "0                 0.0        0.00                     0.00   2015-01-01   \n",
       "1                 0.0      117.08                     1.11   2013-04-01   \n",
       "\n",
       "   last_pymnt_amnt next_pymnt_d last_credit_pull_d  pub_rec_bankruptcies  \n",
       "0           171.62          NaT         2016-05-01                   0.0  \n",
       "1           119.66          NaT         2013-09-01                   0.0  "
      ]
     },
     "execution_count": 11,
     "metadata": {},
     "output_type": "execute_result"
    }
   ],
   "source": [
    "loan_mod.head(2)"
   ]
  },
  {
   "cell_type": "code",
   "execution_count": 12,
   "metadata": {},
   "outputs": [
    {
     "data": {
      "text/plain": [
       "(39717, 45)"
      ]
     },
     "execution_count": 12,
     "metadata": {},
     "output_type": "execute_result"
    }
   ],
   "source": [
    "loan_mod.shape"
   ]
  },
  {
   "cell_type": "markdown",
   "metadata": {},
   "source": [
    "# Analysing Data"
   ]
  },
  {
   "cell_type": "code",
   "execution_count": 13,
   "metadata": {},
   "outputs": [],
   "source": [
    "#Function to analyse categorical variable\n",
    "def analyze_categorical_variables(cat_var,var,tmp_df = deepcopy(loan_mod)):\n",
    "    tmp_df2 = pd.get_dummies(loan_mod[cat_var])\n",
    "    tmp_df = pd.concat([tmp_df,tmp_df2],axis=1)\n",
    "    z = tmp_df[[var]+list(tmp_df2.columns)].groupby(var).sum()\n",
    "    y = z.div(z.sum(axis=0), axis=1)*100\n",
    "    return y"
   ]
  },
  {
   "cell_type": "code",
   "execution_count": null,
   "metadata": {},
   "outputs": [],
   "source": []
  },
  {
   "cell_type": "markdown",
   "metadata": {},
   "source": [
    "### Verifying effect of purpose on charge off percentage"
   ]
  },
  {
   "cell_type": "code",
   "execution_count": 14,
   "metadata": {},
   "outputs": [
    {
     "data": {
      "text/html": [
       "<div>\n",
       "<style scoped>\n",
       "    .dataframe tbody tr th:only-of-type {\n",
       "        vertical-align: middle;\n",
       "    }\n",
       "\n",
       "    .dataframe tbody tr th {\n",
       "        vertical-align: top;\n",
       "    }\n",
       "\n",
       "    .dataframe thead th {\n",
       "        text-align: right;\n",
       "    }\n",
       "</style>\n",
       "<table border=\"1\" class=\"dataframe\">\n",
       "  <thead>\n",
       "    <tr style=\"text-align: right;\">\n",
       "      <th></th>\n",
       "      <th>loan_status</th>\n",
       "      <th>charged off</th>\n",
       "      <th>current</th>\n",
       "      <th>fully paid</th>\n",
       "    </tr>\n",
       "  </thead>\n",
       "  <tbody>\n",
       "    <tr>\n",
       "      <th>0</th>\n",
       "      <td>small_business</td>\n",
       "      <td>25.984683</td>\n",
       "      <td>4.048140</td>\n",
       "      <td>69.967177</td>\n",
       "    </tr>\n",
       "    <tr>\n",
       "      <th>1</th>\n",
       "      <td>renewable_energy</td>\n",
       "      <td>18.446602</td>\n",
       "      <td>0.970874</td>\n",
       "      <td>80.582524</td>\n",
       "    </tr>\n",
       "    <tr>\n",
       "      <th>2</th>\n",
       "      <td>educational</td>\n",
       "      <td>17.230769</td>\n",
       "      <td>0.000000</td>\n",
       "      <td>82.769231</td>\n",
       "    </tr>\n",
       "    <tr>\n",
       "      <th>3</th>\n",
       "      <td>other</td>\n",
       "      <td>15.852742</td>\n",
       "      <td>3.205610</td>\n",
       "      <td>80.941648</td>\n",
       "    </tr>\n",
       "    <tr>\n",
       "      <th>4</th>\n",
       "      <td>moving</td>\n",
       "      <td>15.780446</td>\n",
       "      <td>1.200686</td>\n",
       "      <td>83.018868</td>\n",
       "    </tr>\n",
       "    <tr>\n",
       "      <th>5</th>\n",
       "      <td>house</td>\n",
       "      <td>15.485564</td>\n",
       "      <td>3.674541</td>\n",
       "      <td>80.839895</td>\n",
       "    </tr>\n",
       "    <tr>\n",
       "      <th>6</th>\n",
       "      <td>medical</td>\n",
       "      <td>15.295815</td>\n",
       "      <td>1.731602</td>\n",
       "      <td>82.972583</td>\n",
       "    </tr>\n",
       "    <tr>\n",
       "      <th>7</th>\n",
       "      <td>debt_consolidation</td>\n",
       "      <td>14.843624</td>\n",
       "      <td>3.143608</td>\n",
       "      <td>82.012768</td>\n",
       "    </tr>\n",
       "    <tr>\n",
       "      <th>8</th>\n",
       "      <td>vacation</td>\n",
       "      <td>13.910761</td>\n",
       "      <td>1.574803</td>\n",
       "      <td>84.514436</td>\n",
       "    </tr>\n",
       "    <tr>\n",
       "      <th>9</th>\n",
       "      <td>home_improvement</td>\n",
       "      <td>11.659946</td>\n",
       "      <td>3.393817</td>\n",
       "      <td>84.946237</td>\n",
       "    </tr>\n",
       "    <tr>\n",
       "      <th>10</th>\n",
       "      <td>credit_card</td>\n",
       "      <td>10.565302</td>\n",
       "      <td>2.007797</td>\n",
       "      <td>87.426901</td>\n",
       "    </tr>\n",
       "    <tr>\n",
       "      <th>11</th>\n",
       "      <td>car</td>\n",
       "      <td>10.329245</td>\n",
       "      <td>3.227889</td>\n",
       "      <td>86.442866</td>\n",
       "    </tr>\n",
       "    <tr>\n",
       "      <th>12</th>\n",
       "      <td>major_purchase</td>\n",
       "      <td>10.150892</td>\n",
       "      <td>1.691815</td>\n",
       "      <td>88.157293</td>\n",
       "    </tr>\n",
       "    <tr>\n",
       "      <th>13</th>\n",
       "      <td>wedding</td>\n",
       "      <td>10.137276</td>\n",
       "      <td>2.217529</td>\n",
       "      <td>87.645195</td>\n",
       "    </tr>\n",
       "  </tbody>\n",
       "</table>\n",
       "</div>"
      ],
      "text/plain": [
       "           loan_status  charged off   current  fully paid\n",
       "0       small_business    25.984683  4.048140   69.967177\n",
       "1     renewable_energy    18.446602  0.970874   80.582524\n",
       "2          educational    17.230769  0.000000   82.769231\n",
       "3                other    15.852742  3.205610   80.941648\n",
       "4               moving    15.780446  1.200686   83.018868\n",
       "5                house    15.485564  3.674541   80.839895\n",
       "6              medical    15.295815  1.731602   82.972583\n",
       "7   debt_consolidation    14.843624  3.143608   82.012768\n",
       "8             vacation    13.910761  1.574803   84.514436\n",
       "9     home_improvement    11.659946  3.393817   84.946237\n",
       "10         credit_card    10.565302  2.007797   87.426901\n",
       "11                 car    10.329245  3.227889   86.442866\n",
       "12      major_purchase    10.150892  1.691815   88.157293\n",
       "13             wedding    10.137276  2.217529   87.645195"
      ]
     },
     "execution_count": 14,
     "metadata": {},
     "output_type": "execute_result"
    }
   ],
   "source": [
    "k = analyze_categorical_variables('purpose','loan_status')\n",
    "k = k.T.reset_index()\n",
    "k.columns = ['loan_status', 'charged off', 'current', 'fully paid']\n",
    "k = k.sort_values('charged off',ascending=False).reset_index(drop=True)\n",
    "k"
   ]
  },
  {
   "cell_type": "code",
   "execution_count": 15,
   "metadata": {},
   "outputs": [
    {
     "data": {
      "text/plain": [
       "(array([ 0,  1,  2,  3,  4,  5,  6,  7,  8,  9, 10, 11, 12, 13]),\n",
       " <a list of 14 Text xticklabel objects>)"
      ]
     },
     "execution_count": 15,
     "metadata": {},
     "output_type": "execute_result"
    },
    {
     "data": {
      "image/png": "[encoded data removed]",
      "text/plain": [
       "<Figure size 864x576 with 1 Axes>"
      ]
     },
     "metadata": {},
     "output_type": "display_data"
    }
   ],
   "source": [
    "plt.figure(figsize=(12,8))\n",
    "sns.barplot(y=\"charged off\", x=\"loan_status\", data=k)\n",
    "plt.xticks(rotation=80)"
   ]
  },
  {
   "cell_type": "markdown",
   "metadata": {},
   "source": [
    "#### Conclusion\n",
    "1) Loan for small_business and renewable_energy are more likely to chargeoff.<br/>\n",
    "2) Loan for credit_card, car, major_purchase & wedding are comparatively safer to lend.\n",
    "#### Impact : High"
   ]
  },
  {
   "cell_type": "code",
   "execution_count": null,
   "metadata": {},
   "outputs": [],
   "source": []
  },
  {
   "cell_type": "markdown",
   "metadata": {},
   "source": [
    "### Verifying effects of term on chargeoff percentage"
   ]
  },
  {
   "cell_type": "code",
   "execution_count": 16,
   "metadata": {},
   "outputs": [
    {
     "data": {
      "text/html": [
       "<div>\n",
       "<style scoped>\n",
       "    .dataframe tbody tr th:only-of-type {\n",
       "        vertical-align: middle;\n",
       "    }\n",
       "\n",
       "    .dataframe tbody tr th {\n",
       "        vertical-align: top;\n",
       "    }\n",
       "\n",
       "    .dataframe thead th {\n",
       "        text-align: right;\n",
       "    }\n",
       "</style>\n",
       "<table border=\"1\" class=\"dataframe\">\n",
       "  <thead>\n",
       "    <tr style=\"text-align: right;\">\n",
       "      <th>loan_status</th>\n",
       "      <th>charged off</th>\n",
       "      <th>current</th>\n",
       "      <th>fully paid</th>\n",
       "    </tr>\n",
       "  </thead>\n",
       "  <tbody>\n",
       "    <tr>\n",
       "      <th>60</th>\n",
       "      <td>22.596742</td>\n",
       "      <td>10.733453</td>\n",
       "      <td>66.669805</td>\n",
       "    </tr>\n",
       "    <tr>\n",
       "      <th>36</th>\n",
       "      <td>11.090872</td>\n",
       "      <td>0.000000</td>\n",
       "      <td>88.909128</td>\n",
       "    </tr>\n",
       "  </tbody>\n",
       "</table>\n",
       "</div>"
      ],
      "text/plain": [
       "loan_status  charged off    current  fully paid\n",
       "60             22.596742  10.733453   66.669805\n",
       "36             11.090872   0.000000   88.909128"
      ]
     },
     "execution_count": 16,
     "metadata": {},
     "output_type": "execute_result"
    }
   ],
   "source": [
    "k = analyze_categorical_variables('term','loan_status')\n",
    "k = k.T\n",
    "k.sort_values('charged off',ascending=False)"
   ]
  },
  {
   "cell_type": "code",
   "execution_count": 17,
   "metadata": {},
   "outputs": [
    {
     "data": {
      "text/plain": [
       "<matplotlib.axes._subplots.AxesSubplot at 0x2b082cdb470>"
      ]
     },
     "execution_count": 17,
     "metadata": {},
     "output_type": "execute_result"
    },
    {
     "data": {
      "image/png": "[encoded data removed]",
      "text/plain": [
       "<Figure size 432x288 with 2 Axes>"
      ]
     },
     "metadata": {},
     "output_type": "display_data"
    }
   ],
   "source": [
    "sns.heatmap(k,cmap='RdYlGn',annot=True)"
   ]
  },
  {
   "cell_type": "markdown",
   "metadata": {},
   "source": [
    "#### Conclusion:\n",
    "1) Long term loans (60 MONTHS) are more likely to charge off\n",
    "#### Impact High"
   ]
  },
  {
   "cell_type": "markdown",
   "metadata": {},
   "source": [
    "### Analysing of verification_status on charge off %"
   ]
  },
  {
   "cell_type": "code",
   "execution_count": 18,
   "metadata": {},
   "outputs": [
    {
     "name": "stdout",
     "output_type": "stream",
     "text": [
      "Table V1:\n",
      "Calculating what % of loans charged off for every income verification status\n"
     ]
    },
    {
     "data": {
      "text/html": [
       "<div>\n",
       "<style scoped>\n",
       "    .dataframe tbody tr th:only-of-type {\n",
       "        vertical-align: middle;\n",
       "    }\n",
       "\n",
       "    .dataframe tbody tr th {\n",
       "        vertical-align: top;\n",
       "    }\n",
       "\n",
       "    .dataframe thead th {\n",
       "        text-align: right;\n",
       "    }\n",
       "</style>\n",
       "<table border=\"1\" class=\"dataframe\">\n",
       "  <thead>\n",
       "    <tr style=\"text-align: right;\">\n",
       "      <th></th>\n",
       "      <th>loan_status</th>\n",
       "      <th>charged off</th>\n",
       "      <th>current</th>\n",
       "      <th>fully paid</th>\n",
       "    </tr>\n",
       "  </thead>\n",
       "  <tbody>\n",
       "    <tr>\n",
       "      <th>0</th>\n",
       "      <td>not verified</td>\n",
       "      <td>12.658826</td>\n",
       "      <td>1.341528</td>\n",
       "      <td>85.999645</td>\n",
       "    </tr>\n",
       "    <tr>\n",
       "      <th>1</th>\n",
       "      <td>source verified</td>\n",
       "      <td>14.358666</td>\n",
       "      <td>3.104035</td>\n",
       "      <td>82.537298</td>\n",
       "    </tr>\n",
       "    <tr>\n",
       "      <th>2</th>\n",
       "      <td>verified</td>\n",
       "      <td>16.012179</td>\n",
       "      <td>4.707627</td>\n",
       "      <td>79.280194</td>\n",
       "    </tr>\n",
       "  </tbody>\n",
       "</table>\n",
       "</div>"
      ],
      "text/plain": [
       "       loan_status  charged off   current  fully paid\n",
       "0     not verified    12.658826  1.341528   85.999645\n",
       "1  source verified    14.358666  3.104035   82.537298\n",
       "2         verified    16.012179  4.707627   79.280194"
      ]
     },
     "execution_count": 18,
     "metadata": {},
     "output_type": "execute_result"
    },
    {
     "data": {
      "image/png": "[encoded data removed]",
      "text/plain": [
       "<Figure size 432x432 with 1 Axes>"
      ]
     },
     "metadata": {},
     "output_type": "display_data"
    }
   ],
   "source": [
    "print('Table V1:')\n",
    "print(\"Calculating what % of loans charged off for every income verification status\")\n",
    "k = analyze_categorical_variables('verification_status','loan_status')\n",
    "k = k.T.reset_index()\n",
    "k.columns = ['loan_status', 'charged off', 'current', 'fully paid']\n",
    "plt.figure(figsize=(6,6))\n",
    "sns.barplot(y=\"charged off\", x=\"loan_status\", data=k)\n",
    "plt.xticks(rotation=45)\n",
    "k"
   ]
  },
  {
   "cell_type": "markdown",
   "metadata": {},
   "source": [
    "**Observation:**<br/>\n",
    "When income source is not verified, 12.65% charge off(default) compared to 16.01% when income is verified"
   ]
  },
  {
   "cell_type": "code",
   "execution_count": null,
   "metadata": {},
   "outputs": [],
   "source": []
  },
  {
   "cell_type": "markdown",
   "metadata": {},
   "source": [
    "###  Bivariate analysis on year from earliest_cr_line, inq_last_6mths."
   ]
  },
  {
   "cell_type": "code",
   "execution_count": 19,
   "metadata": {},
   "outputs": [
    {
     "data": {
      "text/plain": [
       "<Figure size 432x288 with 0 Axes>"
      ]
     },
     "metadata": {},
     "output_type": "display_data"
    },
    {
     "data": {
      "image/png": "[encoded data removed]",
      "text/plain": [
       "<Figure size 1440x720 with 1 Axes>"
      ]
     },
     "metadata": {},
     "output_type": "display_data"
    }
   ],
   "source": [
    "loan_mod['earliest_cr_line'] = pd.to_datetime(loan_mod['earliest_cr_line'], errors='coerce')\n",
    "loan_mod['earliest_cr_line_yr'] = loan_mod['earliest_cr_line'].dt.year\n",
    "loan_mod['inq_last_6mths'] = loan_mod['inq_last_6mths'].astype(int)\n",
    "plt.figure(1)\n",
    "plt.figure(figsize=(20,10))\n",
    "plt.subplot(2,2,1)\n",
    "loan_mod['earliest_cr_line_yr_group'] = pd.cut(loan_mod['earliest_cr_line_yr'], bins=range(1969, 2011,5))\n",
    "ax = sns.boxplot(x=\"earliest_cr_line_yr_group\", y=\"inq_last_6mths\", data=loan_mod,hue='loan_status')\n",
    "plt.legend(title='Loan Status', loc='upper left')\n",
    "plt.xticks(rotation=45)\n",
    "plt.show()"
   ]
  },
  {
   "cell_type": "code",
   "execution_count": null,
   "metadata": {},
   "outputs": [],
   "source": []
  },
  {
   "cell_type": "code",
   "execution_count": 20,
   "metadata": {},
   "outputs": [
    {
     "data": {
      "text/plain": [
       "<Figure size 432x288 with 0 Axes>"
      ]
     },
     "metadata": {},
     "output_type": "display_data"
    },
    {
     "data": {
      "image/png": "[encoded data removed]",
      "text/plain": [
       "<Figure size 2520x1152 with 1 Axes>"
      ]
     },
     "metadata": {},
     "output_type": "display_data"
    }
   ],
   "source": [
    "\n",
    "threashold = loan_mod['annual_inc'].quantile(0.98)\n",
    "tmp_df = loan_mod[loan_mod['annual_inc'] <= threashold ]\n",
    "tmp_df.loc[:,'zip_code'] = tmp_df['zip_code'].str.replace('xx','')\n",
    "tmp_df.loc[:,'zip_code'] = tmp_df['zip_code'].str.strip()\n",
    "tmp_df.loc[:,'zip_code'] = tmp_df['zip_code'].astype(int)\n",
    "tmp_df.loc[:,'open_acc'] = tmp_df['open_acc'].astype(int)\n",
    "plt.figure(1)\n",
    "plt.figure(figsize=(35,16))\n",
    "plt.subplot(2,2,1)\n",
    "tmp_df['zip_code_group'] = pd.cut(tmp_df['zip_code'], bins=range(0, 1000,100))\n",
    "ax = sns.boxplot(x=\"zip_code_group\", y=\"int_rate\", data=tmp_df,hue='loan_status')\n",
    "plt.legend(title='Loan Status', loc='upper right')\n",
    "plt.show()"
   ]
  },
  {
   "cell_type": "code",
   "execution_count": null,
   "metadata": {},
   "outputs": [],
   "source": []
  },
  {
   "cell_type": "markdown",
   "metadata": {},
   "source": [
    "### Plot for DTI vs Annual Income for the loan status"
   ]
  },
  {
   "cell_type": "code",
   "execution_count": 21,
   "metadata": {},
   "outputs": [
    {
     "name": "stdout",
     "output_type": "stream",
     "text": [
      "38919\n"
     ]
    },
    {
     "data": {
      "image/png": "[encoded data removed]",
      "text/plain": [
       "<Figure size 1080x720 with 1 Axes>"
      ]
     },
     "metadata": {},
     "output_type": "display_data"
    }
   ],
   "source": [
    "#DTI ratio for each income bucket for Charged Off, Current, and Fully Paid is calculated\n",
    "#Removing the outliers by taking annual income range from 4000 to 85000\n",
    "\n",
    "DTI_AnnualIncome = loan_mod[ loan_mod['annual_inc'] < loan_mod['annual_inc'].quantile(.98) ]\n",
    "print(len(DTI_AnnualIncome))\n",
    "plt.figure(figsize=(15,10))\n",
    "DTI_AnnualIncome['dti_group'] = pd.cut(DTI_AnnualIncome['dti'], bins=range(0, 40,5))\n",
    "DTI_AnnualIncome['annual_inc_group'] = pd.cut(DTI_AnnualIncome['annual_inc'], bins=range(4000, 85000,10000))\n",
    "ax = sns.barplot(y=\"dti\", x=\"annual_inc_group\", data=DTI_AnnualIncome,hue='loan_status')\n",
    "ax.set(xlabel='Annual Income (in thousands)', ylabel='DTI ratio', title= 'DTI vs Annual Income')\n",
    "plt.show()\n",
    "\n",
    "#---------------------------------------------Observations--------------------------\n",
    "#If the DTI ratio for Current loan status is greater than that for fully paid - Customer is likely to be defaulted\n",
    "#Bucket 24000-34000 and 34000-44000 are less likely to default as the ratio difference is considerably less\n",
    "#-----------------------------------------------------------------------------------"
   ]
  },
  {
   "cell_type": "code",
   "execution_count": null,
   "metadata": {},
   "outputs": [],
   "source": []
  },
  {
   "cell_type": "markdown",
   "metadata": {},
   "source": [
    "## Other Analysis"
   ]
  },
  {
   "cell_type": "markdown",
   "metadata": {},
   "source": [
    "### Verifying effect of grade on charge off percentage"
   ]
  },
  {
   "cell_type": "code",
   "execution_count": 22,
   "metadata": {},
   "outputs": [
    {
     "data": {
      "text/html": [
       "<div>\n",
       "<style scoped>\n",
       "    .dataframe tbody tr th:only-of-type {\n",
       "        vertical-align: middle;\n",
       "    }\n",
       "\n",
       "    .dataframe tbody tr th {\n",
       "        vertical-align: top;\n",
       "    }\n",
       "\n",
       "    .dataframe thead th {\n",
       "        text-align: right;\n",
       "    }\n",
       "</style>\n",
       "<table border=\"1\" class=\"dataframe\">\n",
       "  <thead>\n",
       "    <tr style=\"text-align: right;\">\n",
       "      <th></th>\n",
       "      <th>A</th>\n",
       "      <th>B</th>\n",
       "      <th>C</th>\n",
       "      <th>D</th>\n",
       "      <th>E</th>\n",
       "      <th>F</th>\n",
       "      <th>G</th>\n",
       "    </tr>\n",
       "    <tr>\n",
       "      <th>loan_status</th>\n",
       "      <th></th>\n",
       "      <th></th>\n",
       "      <th></th>\n",
       "      <th></th>\n",
       "      <th></th>\n",
       "      <th></th>\n",
       "      <th></th>\n",
       "    </tr>\n",
       "  </thead>\n",
       "  <tbody>\n",
       "    <tr>\n",
       "      <th>charged off</th>\n",
       "      <td>5.969261</td>\n",
       "      <td>11.855241</td>\n",
       "      <td>16.633737</td>\n",
       "      <td>21.066516</td>\n",
       "      <td>25.158339</td>\n",
       "      <td>30.409914</td>\n",
       "      <td>31.962025</td>\n",
       "    </tr>\n",
       "    <tr>\n",
       "      <th>current</th>\n",
       "      <td>0.396629</td>\n",
       "      <td>2.870216</td>\n",
       "      <td>3.260064</td>\n",
       "      <td>4.183154</td>\n",
       "      <td>6.298381</td>\n",
       "      <td>6.959009</td>\n",
       "      <td>5.379747</td>\n",
       "    </tr>\n",
       "    <tr>\n",
       "      <th>fully paid</th>\n",
       "      <td>93.634110</td>\n",
       "      <td>85.274542</td>\n",
       "      <td>80.106199</td>\n",
       "      <td>74.750330</td>\n",
       "      <td>68.543279</td>\n",
       "      <td>62.631077</td>\n",
       "      <td>62.658228</td>\n",
       "    </tr>\n",
       "  </tbody>\n",
       "</table>\n",
       "</div>"
      ],
      "text/plain": [
       "                     A          B          C          D          E          F  \\\n",
       "loan_status                                                                     \n",
       "charged off   5.969261  11.855241  16.633737  21.066516  25.158339  30.409914   \n",
       "current       0.396629   2.870216   3.260064   4.183154   6.298381   6.959009   \n",
       "fully paid   93.634110  85.274542  80.106199  74.750330  68.543279  62.631077   \n",
       "\n",
       "                     G  \n",
       "loan_status             \n",
       "charged off  31.962025  \n",
       "current       5.379747  \n",
       "fully paid   62.658228  "
      ]
     },
     "execution_count": 22,
     "metadata": {},
     "output_type": "execute_result"
    }
   ],
   "source": [
    "k = analyze_categorical_variables('grade','loan_status')\n",
    "k"
   ]
  },
  {
   "cell_type": "code",
   "execution_count": 23,
   "metadata": {},
   "outputs": [
    {
     "data": {
      "text/html": [
       "<div>\n",
       "<style scoped>\n",
       "    .dataframe tbody tr th:only-of-type {\n",
       "        vertical-align: middle;\n",
       "    }\n",
       "\n",
       "    .dataframe tbody tr th {\n",
       "        vertical-align: top;\n",
       "    }\n",
       "\n",
       "    .dataframe thead th {\n",
       "        text-align: right;\n",
       "    }\n",
       "</style>\n",
       "<table border=\"1\" class=\"dataframe\">\n",
       "  <thead>\n",
       "    <tr style=\"text-align: right;\">\n",
       "      <th></th>\n",
       "      <th>charged off</th>\n",
       "      <th>current</th>\n",
       "      <th>fully paid</th>\n",
       "    </tr>\n",
       "    <tr>\n",
       "      <th>grade</th>\n",
       "      <th></th>\n",
       "      <th></th>\n",
       "      <th></th>\n",
       "    </tr>\n",
       "  </thead>\n",
       "  <tbody>\n",
       "    <tr>\n",
       "      <th>A</th>\n",
       "      <td>10.698418</td>\n",
       "      <td>3.508772</td>\n",
       "      <td>28.658574</td>\n",
       "    </tr>\n",
       "    <tr>\n",
       "      <th>B</th>\n",
       "      <td>25.324329</td>\n",
       "      <td>30.263158</td>\n",
       "      <td>31.107739</td>\n",
       "    </tr>\n",
       "    <tr>\n",
       "      <th>C</th>\n",
       "      <td>23.938155</td>\n",
       "      <td>23.157895</td>\n",
       "      <td>19.687405</td>\n",
       "    </tr>\n",
       "    <tr>\n",
       "      <th>D</th>\n",
       "      <td>19.868491</td>\n",
       "      <td>19.473684</td>\n",
       "      <td>12.039454</td>\n",
       "    </tr>\n",
       "    <tr>\n",
       "      <th>E</th>\n",
       "      <td>12.706593</td>\n",
       "      <td>15.701754</td>\n",
       "      <td>5.911988</td>\n",
       "    </tr>\n",
       "    <tr>\n",
       "      <th>F</th>\n",
       "      <td>5.669095</td>\n",
       "      <td>6.403509</td>\n",
       "      <td>1.993930</td>\n",
       "    </tr>\n",
       "    <tr>\n",
       "      <th>G</th>\n",
       "      <td>1.794917</td>\n",
       "      <td>1.491228</td>\n",
       "      <td>0.600910</td>\n",
       "    </tr>\n",
       "  </tbody>\n",
       "</table>\n",
       "</div>"
      ],
      "text/plain": [
       "       charged off    current  fully paid\n",
       "grade                                    \n",
       "A        10.698418   3.508772   28.658574\n",
       "B        25.324329  30.263158   31.107739\n",
       "C        23.938155  23.157895   19.687405\n",
       "D        19.868491  19.473684   12.039454\n",
       "E        12.706593  15.701754    5.911988\n",
       "F         5.669095   6.403509    1.993930\n",
       "G         1.794917   1.491228    0.600910"
      ]
     },
     "execution_count": 23,
     "metadata": {},
     "output_type": "execute_result"
    }
   ],
   "source": [
    "l = analyze_categorical_variables('loan_status','grade')\n",
    "l"
   ]
  },
  {
   "cell_type": "markdown",
   "metadata": {},
   "source": [
    "#### Conclusions: \n",
    "1) With increase in grade from A to G, charge off percentage increases 5.96% to 31.96% <br/>\n",
    "2) Most of the charged off people belong to grade B(25.32) & C(23.94)\n",
    "#### Impact: Medium"
   ]
  },
  {
   "cell_type": "code",
   "execution_count": null,
   "metadata": {},
   "outputs": [],
   "source": []
  },
  {
   "cell_type": "markdown",
   "metadata": {},
   "source": [
    "### Verifying impacts of inq_last_6mths on chargeoff"
   ]
  },
  {
   "cell_type": "code",
   "execution_count": 24,
   "metadata": {},
   "outputs": [
    {
     "data": {
      "text/html": [
       "<div>\n",
       "<style scoped>\n",
       "    .dataframe tbody tr th:only-of-type {\n",
       "        vertical-align: middle;\n",
       "    }\n",
       "\n",
       "    .dataframe tbody tr th {\n",
       "        vertical-align: top;\n",
       "    }\n",
       "\n",
       "    .dataframe thead th {\n",
       "        text-align: right;\n",
       "    }\n",
       "</style>\n",
       "<table border=\"1\" class=\"dataframe\">\n",
       "  <thead>\n",
       "    <tr style=\"text-align: right;\">\n",
       "      <th></th>\n",
       "      <th>0</th>\n",
       "      <th>1</th>\n",
       "      <th>2</th>\n",
       "      <th>3</th>\n",
       "      <th>4</th>\n",
       "      <th>5</th>\n",
       "      <th>6</th>\n",
       "      <th>7</th>\n",
       "      <th>8</th>\n",
       "    </tr>\n",
       "    <tr>\n",
       "      <th>loan_status</th>\n",
       "      <th></th>\n",
       "      <th></th>\n",
       "      <th></th>\n",
       "      <th></th>\n",
       "      <th></th>\n",
       "      <th></th>\n",
       "      <th></th>\n",
       "      <th></th>\n",
       "      <th></th>\n",
       "    </tr>\n",
       "  </thead>\n",
       "  <tbody>\n",
       "    <tr>\n",
       "      <th>charged off</th>\n",
       "      <td>11.813472</td>\n",
       "      <td>15.285753</td>\n",
       "      <td>16.225052</td>\n",
       "      <td>20.308399</td>\n",
       "      <td>15.644172</td>\n",
       "      <td>19.178082</td>\n",
       "      <td>25.0000</td>\n",
       "      <td>28.571429</td>\n",
       "      <td>20.000000</td>\n",
       "    </tr>\n",
       "    <tr>\n",
       "      <th>current</th>\n",
       "      <td>3.062176</td>\n",
       "      <td>2.834746</td>\n",
       "      <td>2.718513</td>\n",
       "      <td>2.132546</td>\n",
       "      <td>3.067485</td>\n",
       "      <td>1.369863</td>\n",
       "      <td>1.5625</td>\n",
       "      <td>2.857143</td>\n",
       "      <td>6.666667</td>\n",
       "    </tr>\n",
       "    <tr>\n",
       "      <th>fully paid</th>\n",
       "      <td>85.124352</td>\n",
       "      <td>81.879501</td>\n",
       "      <td>81.056435</td>\n",
       "      <td>77.559055</td>\n",
       "      <td>81.288344</td>\n",
       "      <td>79.452055</td>\n",
       "      <td>73.4375</td>\n",
       "      <td>68.571429</td>\n",
       "      <td>73.333333</td>\n",
       "    </tr>\n",
       "  </tbody>\n",
       "</table>\n",
       "</div>"
      ],
      "text/plain": [
       "                     0          1          2          3          4          5  \\\n",
       "loan_status                                                                     \n",
       "charged off  11.813472  15.285753  16.225052  20.308399  15.644172  19.178082   \n",
       "current       3.062176   2.834746   2.718513   2.132546   3.067485   1.369863   \n",
       "fully paid   85.124352  81.879501  81.056435  77.559055  81.288344  79.452055   \n",
       "\n",
       "                   6          7          8  \n",
       "loan_status                                 \n",
       "charged off  25.0000  28.571429  20.000000  \n",
       "current       1.5625   2.857143   6.666667  \n",
       "fully paid   73.4375  68.571429  73.333333  "
      ]
     },
     "execution_count": 24,
     "metadata": {},
     "output_type": "execute_result"
    }
   ],
   "source": [
    "k = analyze_categorical_variables('inq_last_6mths','loan_status')\n",
    "k"
   ]
  },
  {
   "cell_type": "markdown",
   "metadata": {},
   "source": [
    "#### Looks like there is increase in chage off percentage with number of inquiries in last 6 months. But the effect is not liner.\n",
    "#### Impact : High to Medium"
   ]
  },
  {
   "cell_type": "markdown",
   "metadata": {},
   "source": [
    "### Verifying impacts of loan_amnt & grade on loan_status"
   ]
  },
  {
   "cell_type": "code",
   "execution_count": 25,
   "metadata": {},
   "outputs": [
    {
     "data": {
      "text/plain": [
       "<matplotlib.legend.Legend at 0x2b08464cac8>"
      ]
     },
     "execution_count": 25,
     "metadata": {},
     "output_type": "execute_result"
    },
    {
     "data": {
      "image/png": "[encoded data removed]",
      "text/plain": [
       "<Figure size 1152x432 with 1 Axes>"
      ]
     },
     "metadata": {},
     "output_type": "display_data"
    }
   ],
   "source": [
    "#ALL\n",
    "plt.figure(figsize=(16, 6))\n",
    "sns.violinplot(data=loan_mod,y='loan_amnt',x='grade',hue='loan_status',palette=\"colorblind\")\n",
    "plt.legend(title='Loan Status', loc='upper left')"
   ]
  },
  {
   "cell_type": "markdown",
   "metadata": {},
   "source": [
    "#### Observations:\n",
    "Medium value for charge off value remains close to fully paid, for Grades A,B,C,D & E <br/>\n",
    "Medium value of charge off is greater than fully paid for grade F<br/>\n",
    "Medium value of charge off is significantly lower than fully paid for grade G <br/>\n",
    "#### Conclusions:\n",
    "Unable to conclude anything substantial. But it looks like there are chances of incorrect assignment of grade for records belonging to grade F & G. "
   ]
  },
  {
   "cell_type": "code",
   "execution_count": null,
   "metadata": {},
   "outputs": [],
   "source": []
  },
  {
   "cell_type": "markdown",
   "metadata": {},
   "source": [
    "### Analysing impact of verification_status"
   ]
  },
  {
   "cell_type": "code",
   "execution_count": 26,
   "metadata": {},
   "outputs": [
    {
     "name": "stdout",
     "output_type": "stream",
     "text": [
      "Table V1\n"
     ]
    },
    {
     "data": {
      "text/html": [
       "<div>\n",
       "<style scoped>\n",
       "    .dataframe tbody tr th:only-of-type {\n",
       "        vertical-align: middle;\n",
       "    }\n",
       "\n",
       "    .dataframe tbody tr th {\n",
       "        vertical-align: top;\n",
       "    }\n",
       "\n",
       "    .dataframe thead th {\n",
       "        text-align: right;\n",
       "    }\n",
       "</style>\n",
       "<table border=\"1\" class=\"dataframe\">\n",
       "  <thead>\n",
       "    <tr style=\"text-align: right;\">\n",
       "      <th></th>\n",
       "      <th>not verified</th>\n",
       "      <th>source verified</th>\n",
       "      <th>verified</th>\n",
       "    </tr>\n",
       "    <tr>\n",
       "      <th>loan_status</th>\n",
       "      <th></th>\n",
       "      <th></th>\n",
       "      <th></th>\n",
       "    </tr>\n",
       "  </thead>\n",
       "  <tbody>\n",
       "    <tr>\n",
       "      <th>charged off</th>\n",
       "      <td>12.658826</td>\n",
       "      <td>14.358666</td>\n",
       "      <td>16.012179</td>\n",
       "    </tr>\n",
       "    <tr>\n",
       "      <th>current</th>\n",
       "      <td>1.341528</td>\n",
       "      <td>3.104035</td>\n",
       "      <td>4.707627</td>\n",
       "    </tr>\n",
       "    <tr>\n",
       "      <th>fully paid</th>\n",
       "      <td>85.999645</td>\n",
       "      <td>82.537298</td>\n",
       "      <td>79.280194</td>\n",
       "    </tr>\n",
       "  </tbody>\n",
       "</table>\n",
       "</div>"
      ],
      "text/plain": [
       "             not verified  source verified   verified\n",
       "loan_status                                          \n",
       "charged off     12.658826        14.358666  16.012179\n",
       "current          1.341528         3.104035   4.707627\n",
       "fully paid      85.999645        82.537298  79.280194"
      ]
     },
     "execution_count": 26,
     "metadata": {},
     "output_type": "execute_result"
    }
   ],
   "source": [
    "print('Table V1')\n",
    "analyze_categorical_variables('verification_status','loan_status')"
   ]
  },
  {
   "cell_type": "code",
   "execution_count": 27,
   "metadata": {},
   "outputs": [
    {
     "name": "stdout",
     "output_type": "stream",
     "text": [
      "Table V2\n"
     ]
    },
    {
     "data": {
      "text/html": [
       "<div>\n",
       "<style scoped>\n",
       "    .dataframe tbody tr th:only-of-type {\n",
       "        vertical-align: middle;\n",
       "    }\n",
       "\n",
       "    .dataframe tbody tr th {\n",
       "        vertical-align: top;\n",
       "    }\n",
       "\n",
       "    .dataframe thead th {\n",
       "        text-align: right;\n",
       "    }\n",
       "</style>\n",
       "<table border=\"1\" class=\"dataframe\">\n",
       "  <thead>\n",
       "    <tr style=\"text-align: right;\">\n",
       "      <th></th>\n",
       "      <th>charged off</th>\n",
       "      <th>current</th>\n",
       "      <th>fully paid</th>\n",
       "    </tr>\n",
       "    <tr>\n",
       "      <th>verification_status</th>\n",
       "      <th></th>\n",
       "      <th></th>\n",
       "      <th></th>\n",
       "    </tr>\n",
       "  </thead>\n",
       "  <tbody>\n",
       "    <tr>\n",
       "      <th>not verified</th>\n",
       "      <td>38.066465</td>\n",
       "      <td>19.912281</td>\n",
       "      <td>44.163885</td>\n",
       "    </tr>\n",
       "    <tr>\n",
       "      <th>source verified</th>\n",
       "      <td>25.484272</td>\n",
       "      <td>27.192982</td>\n",
       "      <td>25.016692</td>\n",
       "    </tr>\n",
       "    <tr>\n",
       "      <th>verified</th>\n",
       "      <td>36.449262</td>\n",
       "      <td>52.894737</td>\n",
       "      <td>30.819423</td>\n",
       "    </tr>\n",
       "  </tbody>\n",
       "</table>\n",
       "</div>"
      ],
      "text/plain": [
       "                     charged off    current  fully paid\n",
       "verification_status                                    \n",
       "not verified           38.066465  19.912281   44.163885\n",
       "source verified        25.484272  27.192982   25.016692\n",
       "verified               36.449262  52.894737   30.819423"
      ]
     },
     "execution_count": 27,
     "metadata": {},
     "output_type": "execute_result"
    }
   ],
   "source": [
    "print('Table V2')\n",
    "analyze_categorical_variables('loan_status','verification_status')"
   ]
  },
  {
   "cell_type": "markdown",
   "metadata": {},
   "source": [
    "#### Observation\n",
    "1) Of all the **charged off** loans the higest **38%** belongs to income **not verified** category (_From Table V2_). But based on _Table V1_, records belong to **verified** are more likely to charge off compared to other two.\n",
    "#### Impact : Medium"
   ]
  },
  {
   "cell_type": "code",
   "execution_count": 28,
   "metadata": {},
   "outputs": [
    {
     "name": "stdout",
     "output_type": "stream",
     "text": [
      "Table V3\n"
     ]
    },
    {
     "data": {
      "text/html": [
       "<div>\n",
       "<style scoped>\n",
       "    .dataframe tbody tr th:only-of-type {\n",
       "        vertical-align: middle;\n",
       "    }\n",
       "\n",
       "    .dataframe tbody tr th {\n",
       "        vertical-align: top;\n",
       "    }\n",
       "\n",
       "    .dataframe thead th {\n",
       "        text-align: right;\n",
       "    }\n",
       "</style>\n",
       "<table border=\"1\" class=\"dataframe\">\n",
       "  <thead>\n",
       "    <tr style=\"text-align: right;\">\n",
       "      <th></th>\n",
       "      <th>loan_status</th>\n",
       "    </tr>\n",
       "    <tr>\n",
       "      <th>verification_status</th>\n",
       "      <th></th>\n",
       "    </tr>\n",
       "  </thead>\n",
       "  <tbody>\n",
       "    <tr>\n",
       "      <th>not verified</th>\n",
       "      <td>16921</td>\n",
       "    </tr>\n",
       "    <tr>\n",
       "      <th>source verified</th>\n",
       "      <td>9987</td>\n",
       "    </tr>\n",
       "    <tr>\n",
       "      <th>verified</th>\n",
       "      <td>12809</td>\n",
       "    </tr>\n",
       "  </tbody>\n",
       "</table>\n",
       "</div>"
      ],
      "text/plain": [
       "                     loan_status\n",
       "verification_status             \n",
       "not verified               16921\n",
       "source verified             9987\n",
       "verified                   12809"
      ]
     },
     "execution_count": 28,
     "metadata": {},
     "output_type": "execute_result"
    }
   ],
   "source": [
    "print('Table V3')\n",
    "loan_mod[['verification_status','loan_status']].groupby('verification_status').count()"
   ]
  },
  {
   "cell_type": "markdown",
   "metadata": {},
   "source": [
    "#### Observation\n",
    "1) Of all the **charged off** loans the higest **38%** belongs to income **not verified** category (_From Table V2_). But based on _Table V1_, records belong to **verified** are more likely to charge off compared to other two.\n",
    "#### Impact : Medium"
   ]
  },
  {
   "cell_type": "code",
   "execution_count": null,
   "metadata": {},
   "outputs": [],
   "source": []
  }
 ],
 "metadata": {
  "kernelspec": {
   "display_name": "Python 3",
   "language": "python",
   "name": "python3"
  },
  "language_info": {
   "codemirror_mode": {
    "name": "ipython",
    "version": 3
   },
   "file_extension": ".py",
   "mimetype": "text/x-python",
   "name": "python",
   "nbconvert_exporter": "python",
   "pygments_lexer": "ipython3",
   "version": "3.7.4"
  }
 },
 "nbformat": 4,
 "nbformat_minor": 2
}
